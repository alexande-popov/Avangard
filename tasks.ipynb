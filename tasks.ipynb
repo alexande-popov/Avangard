{
 "cells": [
  {
   "cell_type": "code",
   "execution_count": 1,
   "id": "6e23775d",
   "metadata": {},
   "outputs": [],
   "source": [
    "import pandas as pd\n",
    "import numpy as np\n",
    "\n",
    "import matplotlib.pyplot as plt"
   ]
  },
  {
   "cell_type": "code",
   "execution_count": 2,
   "id": "207926bd",
   "metadata": {},
   "outputs": [
    {
     "data": {
      "text/html": [
       "<div>\n",
       "<style scoped>\n",
       "    .dataframe tbody tr th:only-of-type {\n",
       "        vertical-align: middle;\n",
       "    }\n",
       "\n",
       "    .dataframe tbody tr th {\n",
       "        vertical-align: top;\n",
       "    }\n",
       "\n",
       "    .dataframe thead th {\n",
       "        text-align: right;\n",
       "    }\n",
       "</style>\n",
       "<table border=\"1\" class=\"dataframe\">\n",
       "  <thead>\n",
       "    <tr style=\"text-align: right;\">\n",
       "      <th></th>\n",
       "      <th>ID</th>\n",
       "      <th>Order Date</th>\n",
       "      <th>Class</th>\n",
       "      <th>Region</th>\n",
       "      <th>Sub-Category</th>\n",
       "      <th>Sales</th>\n",
       "    </tr>\n",
       "  </thead>\n",
       "  <tbody>\n",
       "    <tr>\n",
       "      <th>0</th>\n",
       "      <td>646</td>\n",
       "      <td>30/12/2018</td>\n",
       "      <td>Стандарт</td>\n",
       "      <td>Урал</td>\n",
       "      <td>Appliances</td>\n",
       "      <td>37229,08</td>\n",
       "    </tr>\n",
       "    <tr>\n",
       "      <th>1</th>\n",
       "      <td>907</td>\n",
       "      <td>30/12/2018</td>\n",
       "      <td>Стандарт</td>\n",
       "      <td>Владивосток</td>\n",
       "      <td>Bookcases</td>\n",
       "      <td>20994,61</td>\n",
       "    </tr>\n",
       "    <tr>\n",
       "      <th>2</th>\n",
       "      <td>908</td>\n",
       "      <td>30/12/2018</td>\n",
       "      <td>Стандарт</td>\n",
       "      <td>Владивосток</td>\n",
       "      <td>Phones</td>\n",
       "      <td>42133,86</td>\n",
       "    </tr>\n",
       "    <tr>\n",
       "      <th>3</th>\n",
       "      <td>909</td>\n",
       "      <td>30/12/2018</td>\n",
       "      <td>Стандарт</td>\n",
       "      <td>Владивосток</td>\n",
       "      <td>Binders</td>\n",
       "      <td>10612</td>\n",
       "    </tr>\n",
       "    <tr>\n",
       "      <th>4</th>\n",
       "      <td>1297</td>\n",
       "      <td>30/12/2018</td>\n",
       "      <td>Стандарт</td>\n",
       "      <td>Калиниград</td>\n",
       "      <td>Binders</td>\n",
       "      <td>28781,13</td>\n",
       "    </tr>\n",
       "  </tbody>\n",
       "</table>\n",
       "</div>"
      ],
      "text/plain": [
       "     ID  Order Date     Class       Region Sub-Category     Sales\n",
       "0   646  30/12/2018  Стандарт         Урал   Appliances  37229,08\n",
       "1   907  30/12/2018  Стандарт  Владивосток    Bookcases  20994,61\n",
       "2   908  30/12/2018  Стандарт  Владивосток       Phones  42133,86\n",
       "3   909  30/12/2018  Стандарт  Владивосток      Binders     10612\n",
       "4  1297  30/12/2018  Стандарт   Калиниград      Binders  28781,13"
      ]
     },
     "execution_count": 2,
     "metadata": {},
     "output_type": "execute_result"
    }
   ],
   "source": [
    "# url = 'https://docs.google.com/spreadsheets/d/1DkdhWMrVjtflQfmCIKl8hCjSlIxph1L42_fgyFo0QPs/edit?usp=sharing'\n",
    "\n",
    "data = pd.read_csv('data/train - train.csv')\n",
    "data.head()"
   ]
  },
  {
   "cell_type": "markdown",
   "id": "8cf86b28",
   "metadata": {},
   "source": [
    "## 1 задание"
   ]
  },
  {
   "cell_type": "markdown",
   "id": "4809d973",
   "metadata": {},
   "source": [
    "### а)\n",
    "\n",
    "Какие подгруппы (Sub-Category) товаров наиболее часто покупают __за все время__ продаж?\n",
    "\n",
    "*Пояснение*: Группируем данные по подгруппам, считаемп количество вхожденией, сортируем от большого к маленькому и берем первые 4."
   ]
  },
  {
   "cell_type": "code",
   "execution_count": 3,
   "id": "f2538e74",
   "metadata": {},
   "outputs": [
    {
     "data": {
      "text/plain": [
       "Sub-Category\n",
       "Binders        1492\n",
       "Paper          1338\n",
       "Furnishings     931\n",
       "Phones          876\n",
       "Name: ID, dtype: int64"
      ]
     },
     "execution_count": 3,
     "metadata": {},
     "output_type": "execute_result"
    }
   ],
   "source": [
    "data.groupby([\"Sub-Category\"]).count().sort_values(by=[\"ID\"], ascending=False).head(4)[\"ID\"]"
   ]
  },
  {
   "cell_type": "markdown",
   "id": "da0880b1",
   "metadata": {},
   "source": [
    "### б)\n",
    "\n",
    "Какие подгруппы (Sub-Category) товаров наиболее часто покупают __за последние 2 года__\n",
    "\n",
    "*Пояснение*: То же саме, что в а), только отберем данные за последние 2 года с последней даты"
   ]
  },
  {
   "cell_type": "code",
   "execution_count": 4,
   "id": "a137bd70",
   "metadata": {},
   "outputs": [
    {
     "name": "stdout",
     "output_type": "stream",
     "text": [
      "Fist date: 2015-01-02\n",
      "Last date: 2018-12-30\n",
      "Start date: 2016-12-30\n"
     ]
    }
   ],
   "source": [
    "import datetime\n",
    "\n",
    "# convert from string to date\n",
    "data[\"Order Date\"] = pd.to_datetime(data[\"Order Date\"]).dt.date\n",
    "\n",
    "last_date = data[\"Order Date\"].max()\n",
    "first_date = data[\"Order Date\"].min()\n",
    "start_date = last_date - pd.to_timedelta('365 day') * 2       # 2 years ago date\n",
    "\n",
    "\n",
    "print(f\"Fist date: {first_date}\")\n",
    "print(f\"Last date: {last_date}\")\n",
    "print(f\"Start date: {start_date}\")"
   ]
  },
  {
   "cell_type": "code",
   "execution_count": 5,
   "id": "a977acf7",
   "metadata": {},
   "outputs": [
    {
     "data": {
      "text/plain": [
       "Sub-Category\n",
       "Binders        907\n",
       "Paper          810\n",
       "Furnishings    558\n",
       "Phones         511\n",
       "Name: ID, dtype: int64"
      ]
     },
     "execution_count": 5,
     "metadata": {},
     "output_type": "execute_result"
    }
   ],
   "source": [
    "# only 2 years data\n",
    "data_2y = data[data[\"Order Date\"] >= start_date]\n",
    "\n",
    "data_2y.groupby([\"Sub-Category\"]).count().sort_values(by=[\"ID\"], ascending=False).head(4)[\"ID\"]"
   ]
  },
  {
   "cell_type": "markdown",
   "id": "e2b3ed4a",
   "metadata": {},
   "source": [
    "Получены ответы на а) и б) (за все время и за 2 псоледних года). \n",
    "\n",
    "Но понятно, что в таком виде сранивать неудобно.\n",
    "\n",
    "Поэтому после пункта в) пересчитаем все с нормировкой на общее число заказов. И, собственно, сам пунк в) -- за последний год."
   ]
  },
  {
   "cell_type": "markdown",
   "id": "e8c3fa16",
   "metadata": {},
   "source": [
    "### в)\n",
    "\n",
    "Какие подгруппы (Sub-Category) товаров наиболее часто покупают __за последний 1 год__\n",
    "\n",
    "*Пояснение*: То же саме, что в а), только отберем данные за последний года с последней даты"
   ]
  },
  {
   "cell_type": "code",
   "execution_count": 6,
   "id": "2e115c60",
   "metadata": {},
   "outputs": [
    {
     "name": "stdout",
     "output_type": "stream",
     "text": [
      "Start date: 2017-12-30\n"
     ]
    },
    {
     "data": {
      "text/plain": [
       "Sub-Category\n",
       "Binders        496\n",
       "Paper          454\n",
       "Furnishings    310\n",
       "Phones         291\n",
       "Name: ID, dtype: int64"
      ]
     },
     "execution_count": 6,
     "metadata": {},
     "output_type": "execute_result"
    }
   ],
   "source": [
    "start_date = last_date - pd.to_timedelta('365 day')      # 2 years ago date\n",
    "\n",
    "print(f\"Start date: {start_date}\")\n",
    "\n",
    "# only 1 year data\n",
    "data_1y = data[data[\"Order Date\"] >= start_date]\n",
    "\n",
    "data_1y.groupby([\"Sub-Category\"]).count().sort_values(by=[\"ID\"], ascending=False).head(4)[\"ID\"]"
   ]
  },
  {
   "cell_type": "markdown",
   "id": "caad2139",
   "metadata": {},
   "source": [
    "### а) б) в) сравнение\n",
    "\n",
    "Посчитаем общее количество заказов в топовых подкатегориях и разделим на общее число заказов во всех трех периодах.\n",
    "\n",
    "Т.е. будем смотреть долю подкатегорий во всех заказах."
   ]
  },
  {
   "cell_type": "code",
   "execution_count": 7,
   "id": "cdd6e178",
   "metadata": {},
   "outputs": [
    {
     "data": {
      "text/plain": [
       "datetime.date(2017, 12, 30)"
      ]
     },
     "execution_count": 7,
     "metadata": {},
     "output_type": "execute_result"
    }
   ],
   "source": [
    "start_date"
   ]
  },
  {
   "cell_type": "code",
   "execution_count": 8,
   "id": "ababf380",
   "metadata": {},
   "outputs": [
    {
     "name": "stdout",
     "output_type": "stream",
     "text": [
      "Start date: 2015-01-02\n",
      "Sub-Category\n",
      "Binders        15.224490\n",
      "Paper          13.653061\n",
      "Furnishings     9.500000\n",
      "Phones          8.938776\n",
      "Name: ID, dtype: float64\n",
      "\n",
      "Start date: 2016-12-30\n",
      "Sub-Category\n",
      "Binders        15.616391\n",
      "Paper          13.946281\n",
      "Furnishings     9.607438\n",
      "Phones          8.798209\n",
      "Name: ID, dtype: float64\n",
      "\n",
      "Start date: 2017-12-30\n",
      "Sub-Category\n",
      "Binders        15.154293\n",
      "Paper          13.871066\n",
      "Furnishings     9.471433\n",
      "Phones          8.890926\n",
      "Name: ID, dtype: float64\n",
      "\n"
     ]
    }
   ],
   "source": [
    "start_date = [first_date, \n",
    "              last_date - pd.to_timedelta('365 day') * 2,\n",
    "              last_date - pd.to_timedelta('365 day') * 1]\n",
    "\n",
    "for start_day in start_date:\n",
    "    \n",
    "    print(\"Start date:\", start_day)\n",
    "    \n",
    "    # cut dataset with data\n",
    "    data_i = data[data[\"Order Date\"] >= start_day]\n",
    "    \n",
    "    # Общее число заказов. Все заказы уникальны, я проверил.\n",
    "    N = data_i.shape[0]\n",
    "\n",
    "    # количество заказов в процентах\n",
    "    grouped = data_i.groupby([\"Sub-Category\"]).count().sort_values(by=[\"ID\"], ascending=False).head(4)[\"ID\"] / N * 100\n",
    "    print(grouped)\n",
    "    print()\n",
    "    \n",
    "    "
   ]
  },
  {
   "cell_type": "markdown",
   "id": "703e67df",
   "metadata": {},
   "source": [
    "### Вывод.\n",
    "\n",
    "Годами ничего не меняется. В топоваых категориях (по количеству заказов) так и остаются доли в 15%, 14%, 10%, 9%.\n",
    "\n",
    "Вероятно, синтетические данные."
   ]
  },
  {
   "cell_type": "code",
   "execution_count": null,
   "id": "3278fade",
   "metadata": {},
   "outputs": [],
   "source": []
  },
  {
   "cell_type": "markdown",
   "id": "e3a12d80",
   "metadata": {},
   "source": [
    "## 2 задание\n",
    "\n",
    "Ящик с усами для `Sales`."
   ]
  },
  {
   "cell_type": "code",
   "execution_count": 9,
   "id": "28293e2a",
   "metadata": {},
   "outputs": [],
   "source": [
    "# Делаем числа из строк\n",
    "if data['Sales'].dtype != 'float64':\n",
    "    data['Sales'] = data['Sales'].str.replace(',', '.').astype(float)"
   ]
  },
  {
   "cell_type": "markdown",
   "id": "39383378",
   "metadata": {},
   "source": [
    "Взглянем на распределение по продажам.\n",
    "\n",
    "По оси x -- продажи, по y -- частота.\n",
    "\n",
    "Аномалий нет. Равномерное распределение."
   ]
  },
  {
   "cell_type": "code",
   "execution_count": 10,
   "id": "b9b4531e",
   "metadata": {},
   "outputs": [
    {
     "data": {
      "text/plain": [
       "<AxesSubplot:ylabel='Frequency'>"
      ]
     },
     "execution_count": 10,
     "metadata": {},
     "output_type": "execute_result"
    },
    {
     "data": {
      "image/png": "[encoded data removed]",
      "text/plain": [
       "<Figure size 432x288 with 1 Axes>"
      ]
     },
     "metadata": {
      "needs_background": "light"
     },
     "output_type": "display_data"
    }
   ],
   "source": [
    "data['Sales'].plot(kind='hist', bins=100)"
   ]
  },
  {
   "cell_type": "markdown",
   "id": "4aa69971",
   "metadata": {},
   "source": [
    "Сразу рисуем боксплот."
   ]
  },
  {
   "cell_type": "code",
   "execution_count": 11,
   "id": "8507ed41",
   "metadata": {},
   "outputs": [
    {
     "data": {
      "image/png": "[encoded data removed]",
      "text/plain": [
       "<Figure size 720x504 with 1 Axes>"
      ]
     },
     "metadata": {
      "needs_background": "light"
     },
     "output_type": "display_data"
    }
   ],
   "source": [
    "fig = plt.figure(figsize =(10, 7))\n",
    "\n",
    "plt.boxplot(data.Sales, 0, 'rs', 0)\n",
    "plt.show()"
   ]
  },
  {
   "cell_type": "code",
   "execution_count": null,
   "id": "60e75069",
   "metadata": {},
   "outputs": [],
   "source": []
  },
  {
   "cell_type": "markdown",
   "id": "424f2ed5",
   "metadata": {},
   "source": [
    "## 3 задание\n",
    "\n",
    "Разбить покупки на группы на основе Sales: маленькие продажт, средние, высокие.\n",
    "\n",
    "Сгруппировать данные на основе региона и группы."
   ]
  },
  {
   "cell_type": "code",
   "execution_count": 12,
   "id": "05059648",
   "metadata": {},
   "outputs": [
    {
     "data": {
      "text/plain": [
       "count     9800.000000\n",
       "mean     22921.757737\n",
       "std      12601.999815\n",
       "min       1002.794000\n",
       "25%      12135.625000\n",
       "50%      22882.060000\n",
       "75%      33730.130000\n",
       "max      44995.410000\n",
       "Name: Sales, dtype: float64"
      ]
     },
     "execution_count": 12,
     "metadata": {},
     "output_type": "execute_result"
    }
   ],
   "source": [
    "data.Sales.describe()"
   ]
  },
  {
   "cell_type": "markdown",
   "id": "0162fe6d",
   "metadata": {},
   "source": [
    "Как мы уже видели, распределение по Sales равномерное. Поделим ровно на 3."
   ]
  },
  {
   "cell_type": "code",
   "execution_count": 13,
   "id": "b963e858",
   "metadata": {},
   "outputs": [],
   "source": [
    "step_Sales = (data.Sales.max() - data.Sales.min()) / 3 \n",
    "\n",
    "low_sales = data.Sales.min() + step_Sales\n",
    "high_sales = data.Sales.max() - step_Sales\n",
    "\n",
    "def do_sale_groups(x):\n",
    "    if x <= low_sales:\n",
    "        return \"low sales\"\n",
    "    elif x >= high_sales:\n",
    "        return \"high sales\"\n",
    "    else:\n",
    "        return \"middle sales\"\n",
    "\n",
    "data[\"Sale_group\"] = data.Sales.map(lambda x: do_sale_groups(x))"
   ]
  },
  {
   "cell_type": "code",
   "execution_count": 14,
   "id": "71cb9a9d",
   "metadata": {},
   "outputs": [
    {
     "data": {
      "text/plain": [
       "array(['Урал', 'Владивосток', 'Калиниград', 'Москва'], dtype=object)"
      ]
     },
     "execution_count": 14,
     "metadata": {},
     "output_type": "execute_result"
    }
   ],
   "source": [
    "# Посмотрим регионы\n",
    "\n",
    "data.Region.unique()"
   ]
  },
  {
   "cell_type": "code",
   "execution_count": 15,
   "id": "825fb211",
   "metadata": {},
   "outputs": [
    {
     "data": {
      "text/html": [
       "<div>\n",
       "<style scoped>\n",
       "    .dataframe tbody tr th:only-of-type {\n",
       "        vertical-align: middle;\n",
       "    }\n",
       "\n",
       "    .dataframe tbody tr th {\n",
       "        vertical-align: top;\n",
       "    }\n",
       "\n",
       "    .dataframe thead tr th {\n",
       "        text-align: left;\n",
       "    }\n",
       "\n",
       "    .dataframe thead tr:last-of-type th {\n",
       "        text-align: right;\n",
       "    }\n",
       "</style>\n",
       "<table border=\"1\" class=\"dataframe\">\n",
       "  <thead>\n",
       "    <tr>\n",
       "      <th></th>\n",
       "      <th></th>\n",
       "      <th colspan=\"3\" halign=\"left\">Sales</th>\n",
       "    </tr>\n",
       "    <tr>\n",
       "      <th></th>\n",
       "      <th></th>\n",
       "      <th>count</th>\n",
       "      <th>mean</th>\n",
       "      <th>sum</th>\n",
       "    </tr>\n",
       "    <tr>\n",
       "      <th>Region</th>\n",
       "      <th>Sale_group</th>\n",
       "      <th></th>\n",
       "      <th></th>\n",
       "      <th></th>\n",
       "    </tr>\n",
       "  </thead>\n",
       "  <tbody>\n",
       "    <tr>\n",
       "      <th rowspan=\"3\" valign=\"top\">Владивосток</th>\n",
       "      <th>high sales</th>\n",
       "      <td>944</td>\n",
       "      <td>37552.459439</td>\n",
       "      <td>3.544952e+07</td>\n",
       "    </tr>\n",
       "    <tr>\n",
       "      <th>low sales</th>\n",
       "      <td>947</td>\n",
       "      <td>8302.082951</td>\n",
       "      <td>7.862073e+06</td>\n",
       "    </tr>\n",
       "    <tr>\n",
       "      <th>middle sales</th>\n",
       "      <td>894</td>\n",
       "      <td>23088.470492</td>\n",
       "      <td>2.064109e+07</td>\n",
       "    </tr>\n",
       "    <tr>\n",
       "      <th rowspan=\"3\" valign=\"top\">Калиниград</th>\n",
       "      <th>high sales</th>\n",
       "      <td>991</td>\n",
       "      <td>37699.565106</td>\n",
       "      <td>3.736027e+07</td>\n",
       "    </tr>\n",
       "    <tr>\n",
       "      <th>low sales</th>\n",
       "      <td>1039</td>\n",
       "      <td>8555.503429</td>\n",
       "      <td>8.889168e+06</td>\n",
       "    </tr>\n",
       "    <tr>\n",
       "      <th>middle sales</th>\n",
       "      <td>1110</td>\n",
       "      <td>23135.912288</td>\n",
       "      <td>2.568086e+07</td>\n",
       "    </tr>\n",
       "    <tr>\n",
       "      <th rowspan=\"3\" valign=\"top\">Москва</th>\n",
       "      <th>high sales</th>\n",
       "      <td>530</td>\n",
       "      <td>37652.252962</td>\n",
       "      <td>1.995569e+07</td>\n",
       "    </tr>\n",
       "    <tr>\n",
       "      <th>low sales</th>\n",
       "      <td>520</td>\n",
       "      <td>8245.852623</td>\n",
       "      <td>4.287843e+06</td>\n",
       "    </tr>\n",
       "    <tr>\n",
       "      <th>middle sales</th>\n",
       "      <td>548</td>\n",
       "      <td>23080.500146</td>\n",
       "      <td>1.264811e+07</td>\n",
       "    </tr>\n",
       "    <tr>\n",
       "      <th rowspan=\"3\" valign=\"top\">Урал</th>\n",
       "      <th>high sales</th>\n",
       "      <td>744</td>\n",
       "      <td>37412.720309</td>\n",
       "      <td>2.783506e+07</td>\n",
       "    </tr>\n",
       "    <tr>\n",
       "      <th>low sales</th>\n",
       "      <td>767</td>\n",
       "      <td>8389.712850</td>\n",
       "      <td>6.434910e+06</td>\n",
       "    </tr>\n",
       "    <tr>\n",
       "      <th>middle sales</th>\n",
       "      <td>766</td>\n",
       "      <td>22961.637115</td>\n",
       "      <td>1.758861e+07</td>\n",
       "    </tr>\n",
       "  </tbody>\n",
       "</table>\n",
       "</div>"
      ],
      "text/plain": [
       "                         Sales                            \n",
       "                         count          mean           sum\n",
       "Region      Sale_group                                    \n",
       "Владивосток high sales     944  37552.459439  3.544952e+07\n",
       "            low sales      947   8302.082951  7.862073e+06\n",
       "            middle sales   894  23088.470492  2.064109e+07\n",
       "Калиниград  high sales     991  37699.565106  3.736027e+07\n",
       "            low sales     1039   8555.503429  8.889168e+06\n",
       "            middle sales  1110  23135.912288  2.568086e+07\n",
       "Москва      high sales     530  37652.252962  1.995569e+07\n",
       "            low sales      520   8245.852623  4.287843e+06\n",
       "            middle sales   548  23080.500146  1.264811e+07\n",
       "Урал        high sales     744  37412.720309  2.783506e+07\n",
       "            low sales      767   8389.712850  6.434910e+06\n",
       "            middle sales   766  22961.637115  1.758861e+07"
      ]
     },
     "execution_count": 15,
     "metadata": {},
     "output_type": "execute_result"
    }
   ],
   "source": [
    "data.groupby([\"Region\", \"Sale_group\"])[[\"Sales\"]].agg([\"count\", \"mean\", \"sum\"])\n",
    "\n",
    "# продажи в сводных группах могут отличаться по количеству (наибольшая вариативность по признаку региона)\n",
    "# тогда из трех выбранных функций агррегации подойдет только \"среднее\""
   ]
  },
  {
   "cell_type": "code",
   "execution_count": 16,
   "id": "ff2c4d4d",
   "metadata": {},
   "outputs": [
    {
     "data": {
      "text/html": [
       "<div>\n",
       "<style scoped>\n",
       "    .dataframe tbody tr th:only-of-type {\n",
       "        vertical-align: middle;\n",
       "    }\n",
       "\n",
       "    .dataframe tbody tr th {\n",
       "        vertical-align: top;\n",
       "    }\n",
       "\n",
       "    .dataframe thead th {\n",
       "        text-align: right;\n",
       "    }\n",
       "</style>\n",
       "<table border=\"1\" class=\"dataframe\">\n",
       "  <thead>\n",
       "    <tr style=\"text-align: right;\">\n",
       "      <th>Sale_group</th>\n",
       "      <th>high sales</th>\n",
       "      <th>low sales</th>\n",
       "      <th>middle sales</th>\n",
       "    </tr>\n",
       "    <tr>\n",
       "      <th>Region</th>\n",
       "      <th></th>\n",
       "      <th></th>\n",
       "      <th></th>\n",
       "    </tr>\n",
       "  </thead>\n",
       "  <tbody>\n",
       "    <tr>\n",
       "      <th>Владивосток</th>\n",
       "      <td>37552.459439</td>\n",
       "      <td>8302.082951</td>\n",
       "      <td>23088.470492</td>\n",
       "    </tr>\n",
       "    <tr>\n",
       "      <th>Калиниград</th>\n",
       "      <td>37699.565106</td>\n",
       "      <td>8555.503429</td>\n",
       "      <td>23135.912288</td>\n",
       "    </tr>\n",
       "    <tr>\n",
       "      <th>Москва</th>\n",
       "      <td>37652.252962</td>\n",
       "      <td>8245.852623</td>\n",
       "      <td>23080.500146</td>\n",
       "    </tr>\n",
       "    <tr>\n",
       "      <th>Урал</th>\n",
       "      <td>37412.720309</td>\n",
       "      <td>8389.712850</td>\n",
       "      <td>22961.637115</td>\n",
       "    </tr>\n",
       "  </tbody>\n",
       "</table>\n",
       "</div>"
      ],
      "text/plain": [
       "Sale_group     high sales    low sales  middle sales\n",
       "Region                                              \n",
       "Владивосток  37552.459439  8302.082951  23088.470492\n",
       "Калиниград   37699.565106  8555.503429  23135.912288\n",
       "Москва       37652.252962  8245.852623  23080.500146\n",
       "Урал         37412.720309  8389.712850  22961.637115"
      ]
     },
     "execution_count": 16,
     "metadata": {},
     "output_type": "execute_result"
    }
   ],
   "source": [
    "pv_t = pd.pivot_table(data, index=\"Region\", columns=\"Sale_group\", values=\"Sales\", aggfunc=\"mean\")\n",
    "pv_t"
   ]
  },
  {
   "cell_type": "code",
   "execution_count": 17,
   "id": "7f1b83f7",
   "metadata": {},
   "outputs": [
    {
     "data": {
      "text/plain": [
       "<AxesSubplot:xlabel='Region'>"
      ]
     },
     "execution_count": 17,
     "metadata": {},
     "output_type": "execute_result"
    },
    {
     "data": {
      "image/png": "[encoded data removed]",
      "text/plain": [
       "<Figure size 432x288 with 1 Axes>"
      ]
     },
     "metadata": {
      "needs_background": "light"
     },
     "output_type": "display_data"
    }
   ],
   "source": [
    "pv_t.plot.bar()"
   ]
  },
  {
   "cell_type": "markdown",
   "id": "1960418f",
   "metadata": {},
   "source": [
    "**Вывод**: ничего интересного."
   ]
  },
  {
   "cell_type": "code",
   "execution_count": null,
   "id": "4adf5cae",
   "metadata": {},
   "outputs": [],
   "source": []
  },
  {
   "cell_type": "markdown",
   "id": "f61ca676",
   "metadata": {},
   "source": [
    "## 4 задание\n",
    "\n",
    "Спрогнозировать регрессией продажи для\n",
    "\n",
    "а) Phone\n",
    "\n",
    "б) Art\n",
    "\n"
   ]
  },
  {
   "cell_type": "code",
   "execution_count": 18,
   "id": "a7b2c9b2",
   "metadata": {},
   "outputs": [],
   "source": [
    "start_date = data[\"Order Date\"].max()\n",
    "\n",
    "# введем колонку отсчета дней от последнего события\n",
    "data[\"days\"] = (data[\"Order Date\"] - start_date).dt.days\n",
    "\n",
    "data_pho = data[data[\"Sub-Category\"] == 'Phones']\n",
    "data_art = data[data[\"Sub-Category\"] == 'Art']\n"
   ]
  },
  {
   "cell_type": "code",
   "execution_count": 19,
   "id": "ab61785b",
   "metadata": {},
   "outputs": [],
   "source": [
    "data_pho = data[data[\"Sub-Category\"] == 'Phones']\n",
    "data_art = data[data[\"Sub-Category\"] == 'Art']"
   ]
  },
  {
   "cell_type": "code",
   "execution_count": 20,
   "id": "8eeb34e9",
   "metadata": {},
   "outputs": [],
   "source": [
    "# Посмотрим глазами динамику продаж по дням."
   ]
  },
  {
   "cell_type": "code",
   "execution_count": 21,
   "id": "8b9aba87",
   "metadata": {},
   "outputs": [
    {
     "data": {
      "text/plain": [
       "<AxesSubplot:xlabel='Order Date'>"
      ]
     },
     "execution_count": 21,
     "metadata": {},
     "output_type": "execute_result"
    },
    {
     "data": {
      "image/png": "[encoded data removed]",
      "text/plain": [
       "<Figure size 432x288 with 1 Axes>"
      ]
     },
     "metadata": {
      "needs_background": "light"
     },
     "output_type": "display_data"
    }
   ],
   "source": [
    "# Сумма продаж телефонов по дням\n",
    "\n",
    "data_pho.groupby([\"Order Date\"])[[\"Sales\"]].sum().plot()"
   ]
  },
  {
   "cell_type": "code",
   "execution_count": 22,
   "id": "221a9e87",
   "metadata": {},
   "outputs": [
    {
     "data": {
      "text/plain": [
       "<AxesSubplot:xlabel='Order Date'>"
      ]
     },
     "execution_count": 22,
     "metadata": {},
     "output_type": "execute_result"
    },
    {
     "data": {
      "image/png": "[encoded data removed]",
      "text/plain": [
       "<Figure size 432x288 with 1 Axes>"
      ]
     },
     "metadata": {
      "needs_background": "light"
     },
     "output_type": "display_data"
    }
   ],
   "source": [
    "# Сумма продаж арта по дням\n",
    "\n",
    "data_art.groupby([\"Order Date\"])[[\"Sales\"]].sum().plot()"
   ]
  },
  {
   "cell_type": "code",
   "execution_count": null,
   "id": "1c4a5d90",
   "metadata": {},
   "outputs": [],
   "source": []
  },
  {
   "cell_type": "code",
   "execution_count": 23,
   "id": "c24a0fd1",
   "metadata": {},
   "outputs": [
    {
     "name": "stdout",
     "output_type": "stream",
     "text": [
      "[4.11407807e-01 2.34829583e+04]\n",
      "[-9.55846897e-01  2.21148636e+04]\n"
     ]
    }
   ],
   "source": [
    "# Коэффициенты линейной регркессии\n",
    "\n",
    "a_pho = np.polyfit(data_pho[\"days\"], data_pho[\"Sales\"], 1)\n",
    "a_art = np.polyfit(data_art[\"days\"], data_art[\"Sales\"], 1)\n",
    "\n",
    "print(a_pho)\n",
    "print(a_art)\n",
    "\n",
    "# продажи телефонов будут расти по 4 копейки в день\n",
    "#  а продажи артов падать на ~10 копеек в день"
   ]
  },
  {
   "cell_type": "code",
   "execution_count": 24,
   "id": "8ac734d0",
   "metadata": {},
   "outputs": [],
   "source": [
    "def calc_trend(x, a):\n",
    "    y = a[0] * x + a[1]\n",
    "    return y"
   ]
  },
  {
   "cell_type": "code",
   "execution_count": 25,
   "id": "fc5f5131",
   "metadata": {},
   "outputs": [],
   "source": [
    "# на два года вперед\n",
    "days_arr = [i for i in range(data.days.min(), 365*2, 1)]\n",
    "\n",
    "# функции фитирования\n",
    "sales_pho_trend = [calc_trend(x, a_pho) for x in days_arr]\n",
    "sales_art_trend = [calc_trend(x, a_art) for x in days_arr]"
   ]
  },
  {
   "cell_type": "markdown",
   "id": "53b939c8",
   "metadata": {},
   "source": [
    "#### Тренд для Phones"
   ]
  },
  {
   "cell_type": "code",
   "execution_count": 26,
   "id": "8633c060",
   "metadata": {},
   "outputs": [
    {
     "data": {
      "text/plain": [
       "[<matplotlib.lines.Line2D at 0x139c8910>]"
      ]
     },
     "execution_count": 26,
     "metadata": {},
     "output_type": "execute_result"
    },
    {
     "data": {
      "image/png": "[encoded data removed]",
      "text/plain": [
       "<Figure size 1440x504 with 1 Axes>"
      ]
     },
     "metadata": {
      "needs_background": "light"
     },
     "output_type": "display_data"
    }
   ],
   "source": [
    "fig = plt.figure(figsize=(20, 7))\n",
    "\n",
    "# plt.plot(data_pho[\"days\"], data_pho[\"Sales\"], 'go', label=\"данные\")\n",
    "plt.plot(days_arr, sales_pho_trend, 'r-', label=\"линия тренда\")"
   ]
  },
  {
   "cell_type": "markdown",
   "id": "5e98a3cc",
   "metadata": {},
   "source": [
    "#### Тренд для Art"
   ]
  },
  {
   "cell_type": "code",
   "execution_count": 27,
   "id": "bd00a4f5",
   "metadata": {},
   "outputs": [
    {
     "data": {
      "text/plain": [
       "[<matplotlib.lines.Line2D at 0x13a24e20>]"
      ]
     },
     "execution_count": 27,
     "metadata": {},
     "output_type": "execute_result"
    },
    {
     "data": {
      "image/png": "[encoded data removed]",
      "text/plain": [
       "<Figure size 1440x504 with 1 Axes>"
      ]
     },
     "metadata": {
      "needs_background": "light"
     },
     "output_type": "display_data"
    }
   ],
   "source": [
    "fig = plt.figure(figsize=(20, 7))\n",
    "\n",
    "# plt.plot(data_art[\"days\"], data_art[\"Sales\"], 'go', label=\"данные\")\n",
    "plt.plot(days_arr, sales_art_trend, 'r-', label=\"линия тренда\")"
   ]
  },
  {
   "cell_type": "markdown",
   "id": "676d646a",
   "metadata": {},
   "source": [
    "### Вывод\n",
    "\n",
    "Тренты получены на 2 года вперед. Отчет в днях от 0 (последней записи в таблице).\n",
    "\n",
    "Доверять им нельзя, так как коэффициент наклона линии регрессии слишком мал -- это, скорее всего, просто шум."
   ]
  },
  {
   "cell_type": "code",
   "execution_count": null,
   "id": "e13e5df4",
   "metadata": {},
   "outputs": [],
   "source": []
  },
  {
   "cell_type": "code",
   "execution_count": null,
   "id": "5f0d4240",
   "metadata": {},
   "outputs": [],
   "source": []
  }
 ],
 "metadata": {
  "kernelspec": {
   "display_name": "Python 3",
   "language": "python",
   "name": "python3"
  },
  "language_info": {
   "codemirror_mode": {
    "name": "ipython",
    "version": 3
   },
   "file_extension": ".py",
   "mimetype": "text/x-python",
   "name": "python",
   "nbconvert_exporter": "python",
   "pygments_lexer": "ipython3",
   "version": "3.8.11"
  }
 },
 "nbformat": 4,
 "nbformat_minor": 5
}
